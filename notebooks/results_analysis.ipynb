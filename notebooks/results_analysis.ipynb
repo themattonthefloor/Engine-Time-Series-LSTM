{
 "cells": [
  {
   "cell_type": "markdown",
   "metadata": {},
   "source": [
    "# Results Analysis"
   ]
  },
  {
   "cell_type": "code",
   "execution_count": 1,
   "metadata": {},
   "outputs": [],
   "source": [
    "import sys\n",
    "import pandas as pd\n",
    "\n",
    "import seaborn as sns\n",
    "import matplotlib.pyplot as plt\n",
    "from sklearn.metrics import accuracy_score\n",
    "\n",
    "sys.path.append(\"..\")\n",
    "from src.tools import DataPipeline\n",
    "from src.inference import Inference\n",
    "\n",
    "# Setting to show more columns\n",
    "pd.set_option(\"display.max_columns\", 30)"
   ]
  },
  {
   "cell_type": "markdown",
   "metadata": {},
   "source": [
    "- Lets use the test dataset to perform an analysis"
   ]
  },
  {
   "cell_type": "code",
   "execution_count": 2,
   "metadata": {},
   "outputs": [
    {
     "name": "stdout",
     "output_type": "stream",
     "text": [
      "X_test: (1995, 100, 15)\n",
      "y_test: (1995,)\n"
     ]
    }
   ],
   "source": [
    "# Load dataset\n",
    "data_dir = '../data/turbofan.csv'\n",
    "dpl = DataPipeline()\n",
    "dpl.ingest_data(data_dir)\n",
    "_, X_test, _, y_test = dpl.fit_transform(alpha=0.3,sequence_length=100)\n",
    "\n",
    "print('X_test:',X_test.shape)\n",
    "print('y_test:',y_test.shape)"
   ]
  },
  {
   "cell_type": "code",
   "execution_count": 3,
   "metadata": {},
   "outputs": [
    {
     "name": "stdout",
     "output_type": "stream",
     "text": [
      "Model: \"sequential\"\n",
      "_________________________________________________________________\n",
      " Layer (type)                Output Shape              Param #   \n",
      "=================================================================\n",
      " lstm (LSTM)                 (None, 100, 32)           6144      \n",
      "                                                                 \n",
      " dropout (Dropout)           (None, 100, 32)           0         \n",
      "                                                                 \n",
      " lstm_1 (LSTM)               (None, 64)                24832     \n",
      "                                                                 \n",
      " dropout_1 (Dropout)         (None, 64)                0         \n",
      "                                                                 \n",
      " dense (Dense)               (None, 1)                 65        \n",
      "                                                                 \n",
      "=================================================================\n",
      "Total params: 31,041\n",
      "Trainable params: 31,041\n",
      "Non-trainable params: 0\n",
      "_________________________________________________________________\n"
     ]
    }
   ],
   "source": [
    "# Load Model\n",
    "model_weights_path = '../weights/lstm.h5'\n",
    "inf = Inference()\n",
    "model = inf.load_model(model_weights_path)\n",
    "model.summary()"
   ]
  },
  {
   "cell_type": "code",
   "execution_count": 4,
   "metadata": {},
   "outputs": [
    {
     "data": {
      "text/html": [
       "<div>\n",
       "<style scoped>\n",
       "    .dataframe tbody tr th:only-of-type {\n",
       "        vertical-align: middle;\n",
       "    }\n",
       "\n",
       "    .dataframe tbody tr th {\n",
       "        vertical-align: top;\n",
       "    }\n",
       "\n",
       "    .dataframe thead th {\n",
       "        text-align: right;\n",
       "    }\n",
       "</style>\n",
       "<table border=\"1\" class=\"dataframe\">\n",
       "  <thead>\n",
       "    <tr style=\"text-align: right;\">\n",
       "      <th></th>\n",
       "      <th>predictions</th>\n",
       "      <th>actual</th>\n",
       "    </tr>\n",
       "  </thead>\n",
       "  <tbody>\n",
       "    <tr>\n",
       "      <th>0</th>\n",
       "      <td>109.524284</td>\n",
       "      <td>169.0</td>\n",
       "    </tr>\n",
       "    <tr>\n",
       "      <th>1</th>\n",
       "      <td>109.628578</td>\n",
       "      <td>168.0</td>\n",
       "    </tr>\n",
       "    <tr>\n",
       "      <th>2</th>\n",
       "      <td>109.671333</td>\n",
       "      <td>167.0</td>\n",
       "    </tr>\n",
       "    <tr>\n",
       "      <th>3</th>\n",
       "      <td>109.713493</td>\n",
       "      <td>166.0</td>\n",
       "    </tr>\n",
       "    <tr>\n",
       "      <th>4</th>\n",
       "      <td>109.726860</td>\n",
       "      <td>165.0</td>\n",
       "    </tr>\n",
       "  </tbody>\n",
       "</table>\n",
       "</div>"
      ],
      "text/plain": [
       "   predictions  actual\n",
       "0   109.524284   169.0\n",
       "1   109.628578   168.0\n",
       "2   109.671333   167.0\n",
       "3   109.713493   166.0\n",
       "4   109.726860   165.0"
      ]
     },
     "execution_count": 4,
     "metadata": {},
     "output_type": "execute_result"
    }
   ],
   "source": [
    "# Predict the test input features\n",
    "predictions = model.predict(X_test).flatten()\n",
    "comparison_df = pd.DataFrame({'predictions':predictions,\n",
    "                              'actual':y_test})\n",
    "comparison_df.head()"
   ]
  },
  {
   "cell_type": "markdown",
   "metadata": {},
   "source": [
    "- Now we can perform an analysis of the results by turning it into a binary classification problem."
   ]
  },
  {
   "cell_type": "code",
   "execution_count": 5,
   "metadata": {},
   "outputs": [
    {
     "data": {
      "text/html": [
       "<div>\n",
       "<style scoped>\n",
       "    .dataframe tbody tr th:only-of-type {\n",
       "        vertical-align: middle;\n",
       "    }\n",
       "\n",
       "    .dataframe tbody tr th {\n",
       "        vertical-align: top;\n",
       "    }\n",
       "\n",
       "    .dataframe thead th {\n",
       "        text-align: right;\n",
       "    }\n",
       "</style>\n",
       "<table border=\"1\" class=\"dataframe\">\n",
       "  <thead>\n",
       "    <tr style=\"text-align: right;\">\n",
       "      <th></th>\n",
       "      <th>predictions</th>\n",
       "      <th>actual</th>\n",
       "      <th>predictions_bool</th>\n",
       "      <th>actual_bool</th>\n",
       "    </tr>\n",
       "  </thead>\n",
       "  <tbody>\n",
       "    <tr>\n",
       "      <th>0</th>\n",
       "      <td>109.524284</td>\n",
       "      <td>169.0</td>\n",
       "      <td>False</td>\n",
       "      <td>False</td>\n",
       "    </tr>\n",
       "    <tr>\n",
       "      <th>1</th>\n",
       "      <td>109.628578</td>\n",
       "      <td>168.0</td>\n",
       "      <td>False</td>\n",
       "      <td>False</td>\n",
       "    </tr>\n",
       "    <tr>\n",
       "      <th>2</th>\n",
       "      <td>109.671333</td>\n",
       "      <td>167.0</td>\n",
       "      <td>False</td>\n",
       "      <td>False</td>\n",
       "    </tr>\n",
       "    <tr>\n",
       "      <th>3</th>\n",
       "      <td>109.713493</td>\n",
       "      <td>166.0</td>\n",
       "      <td>False</td>\n",
       "      <td>False</td>\n",
       "    </tr>\n",
       "    <tr>\n",
       "      <th>4</th>\n",
       "      <td>109.726860</td>\n",
       "      <td>165.0</td>\n",
       "      <td>False</td>\n",
       "      <td>False</td>\n",
       "    </tr>\n",
       "  </tbody>\n",
       "</table>\n",
       "</div>"
      ],
      "text/plain": [
       "   predictions  actual  predictions_bool  actual_bool\n",
       "0   109.524284   169.0             False        False\n",
       "1   109.628578   168.0             False        False\n",
       "2   109.671333   167.0             False        False\n",
       "3   109.713493   166.0             False        False\n",
       "4   109.726860   165.0             False        False"
      ]
     },
     "execution_count": 5,
     "metadata": {},
     "output_type": "execute_result"
    }
   ],
   "source": [
    "comparison_df['predictions_bool'] = comparison_df.predictions.apply(lambda x: x<15)\n",
    "comparison_df['actual_bool'] = comparison_df.actual.apply(lambda x: x<15)\n",
    "comparison_df.head()"
   ]
  },
  {
   "cell_type": "code",
   "execution_count": 6,
   "metadata": {},
   "outputs": [
    {
     "data": {
      "text/plain": [
       "actual\n",
       "0.0    [[True, True, True, True, True, True, True, Tr...\n",
       "1.0    [[True, True, True, True, True, True, True, Tr...\n",
       "2.0    [[True, True, True, True, True, True, True, Tr...\n",
       "3.0    [[True, True, True, True, True, True, True, Tr...\n",
       "4.0    [[True, True, True, True, True, True, True, Tr...\n",
       "dtype: object"
      ]
     },
     "execution_count": 6,
     "metadata": {},
     "output_type": "execute_result"
    }
   ],
   "source": [
    "s = comparison_df.groupby(['actual'])[['predictions_bool','actual_bool']].apply(lambda x: ([list(x['predictions_bool']),list(x['actual_bool'])]))\n",
    "s.head()"
   ]
  },
  {
   "cell_type": "code",
   "execution_count": 7,
   "metadata": {},
   "outputs": [
    {
     "data": {
      "text/html": [
       "<div>\n",
       "<style scoped>\n",
       "    .dataframe tbody tr th:only-of-type {\n",
       "        vertical-align: middle;\n",
       "    }\n",
       "\n",
       "    .dataframe tbody tr th {\n",
       "        vertical-align: top;\n",
       "    }\n",
       "\n",
       "    .dataframe thead th {\n",
       "        text-align: right;\n",
       "    }\n",
       "</style>\n",
       "<table border=\"1\" class=\"dataframe\">\n",
       "  <thead>\n",
       "    <tr style=\"text-align: right;\">\n",
       "      <th></th>\n",
       "      <th>5</th>\n",
       "      <th>6</th>\n",
       "      <th>7</th>\n",
       "      <th>8</th>\n",
       "      <th>9</th>\n",
       "      <th>10</th>\n",
       "      <th>11</th>\n",
       "      <th>12</th>\n",
       "      <th>13</th>\n",
       "      <th>14</th>\n",
       "      <th>15</th>\n",
       "      <th>16</th>\n",
       "      <th>17</th>\n",
       "      <th>18</th>\n",
       "      <th>19</th>\n",
       "      <th>20</th>\n",
       "      <th>21</th>\n",
       "      <th>22</th>\n",
       "      <th>23</th>\n",
       "      <th>24</th>\n",
       "      <th>25</th>\n",
       "    </tr>\n",
       "  </thead>\n",
       "  <tbody>\n",
       "    <tr>\n",
       "      <th>RC</th>\n",
       "      <td>5.00</td>\n",
       "      <td>6.0</td>\n",
       "      <td>7.00</td>\n",
       "      <td>8.00</td>\n",
       "      <td>9.00</td>\n",
       "      <td>10.0</td>\n",
       "      <td>11.0</td>\n",
       "      <td>12.00</td>\n",
       "      <td>13.00</td>\n",
       "      <td>14.00</td>\n",
       "      <td>15.00</td>\n",
       "      <td>16.0</td>\n",
       "      <td>17.00</td>\n",
       "      <td>18.0</td>\n",
       "      <td>19.0</td>\n",
       "      <td>20.0</td>\n",
       "      <td>21.00</td>\n",
       "      <td>22.00</td>\n",
       "      <td>23.00</td>\n",
       "      <td>24.00</td>\n",
       "      <td>25.00</td>\n",
       "    </tr>\n",
       "    <tr>\n",
       "      <th>accuracy_score</th>\n",
       "      <td>0.95</td>\n",
       "      <td>0.9</td>\n",
       "      <td>0.75</td>\n",
       "      <td>0.75</td>\n",
       "      <td>0.65</td>\n",
       "      <td>0.6</td>\n",
       "      <td>0.5</td>\n",
       "      <td>0.35</td>\n",
       "      <td>0.35</td>\n",
       "      <td>0.25</td>\n",
       "      <td>0.75</td>\n",
       "      <td>0.8</td>\n",
       "      <td>0.85</td>\n",
       "      <td>0.9</td>\n",
       "      <td>0.9</td>\n",
       "      <td>0.9</td>\n",
       "      <td>0.95</td>\n",
       "      <td>0.95</td>\n",
       "      <td>0.95</td>\n",
       "      <td>0.95</td>\n",
       "      <td>0.95</td>\n",
       "    </tr>\n",
       "    <tr>\n",
       "      <th>detect_failure</th>\n",
       "      <td>0.95</td>\n",
       "      <td>0.9</td>\n",
       "      <td>0.75</td>\n",
       "      <td>0.75</td>\n",
       "      <td>0.65</td>\n",
       "      <td>0.6</td>\n",
       "      <td>0.5</td>\n",
       "      <td>0.35</td>\n",
       "      <td>0.35</td>\n",
       "      <td>0.25</td>\n",
       "      <td>0.25</td>\n",
       "      <td>0.2</td>\n",
       "      <td>0.15</td>\n",
       "      <td>0.1</td>\n",
       "      <td>0.1</td>\n",
       "      <td>0.1</td>\n",
       "      <td>0.05</td>\n",
       "      <td>0.05</td>\n",
       "      <td>0.05</td>\n",
       "      <td>0.05</td>\n",
       "      <td>0.05</td>\n",
       "    </tr>\n",
       "  </tbody>\n",
       "</table>\n",
       "</div>"
      ],
      "text/plain": [
       "                  5    6     7     8     9     10    11     12     13     14  \\\n",
       "RC              5.00  6.0  7.00  8.00  9.00  10.0  11.0  12.00  13.00  14.00   \n",
       "accuracy_score  0.95  0.9  0.75  0.75  0.65   0.6   0.5   0.35   0.35   0.25   \n",
       "detect_failure  0.95  0.9  0.75  0.75  0.65   0.6   0.5   0.35   0.35   0.25   \n",
       "\n",
       "                   15    16     17    18    19    20     21     22     23  \\\n",
       "RC              15.00  16.0  17.00  18.0  19.0  20.0  21.00  22.00  23.00   \n",
       "accuracy_score   0.75   0.8   0.85   0.9   0.9   0.9   0.95   0.95   0.95   \n",
       "detect_failure   0.25   0.2   0.15   0.1   0.1   0.1   0.05   0.05   0.05   \n",
       "\n",
       "                   24     25  \n",
       "RC              24.00  25.00  \n",
       "accuracy_score   0.95   0.95  \n",
       "detect_failure   0.05   0.05  "
      ]
     },
     "execution_count": 7,
     "metadata": {},
     "output_type": "execute_result"
    }
   ],
   "source": [
    "results_per_RC = pd.DataFrame({'RC':s.index.astype(int),\n",
    "                               'accuracy_score':s.apply(lambda x: accuracy_score(x[1],x[0])).values})\n",
    "results_per_RC['detect_failure'] = results_per_RC.apply(lambda x: x[1] if x[0]<15 else 1-x[1], axis=1)\n",
    "results_per_RC[5:26].transpose()"
   ]
  },
  {
   "cell_type": "markdown",
   "metadata": {},
   "source": [
    "- We will use this data to plot a graph, we can study the probability of predicting a failure near to where it is important."
   ]
  },
  {
   "cell_type": "code",
   "execution_count": 8,
   "metadata": {},
   "outputs": [
    {
     "data": {
      "image/png": "[encoded data removed]",
      "text/plain": [
       "<Figure size 864x504 with 1 Axes>"
      ]
     },
     "metadata": {
      "needs_background": "light"
     },
     "output_type": "display_data"
    }
   ],
   "source": [
    "plt.figure(figsize=(12,7))\n",
    "sns.lineplot(data=results_per_RC,x='RC',y='detect_failure')\n",
    "sns.lineplot(x=[15,15],y=[0,1.1],color='red')\n",
    "plt.title('Probability of detecting that the engine should fail within the next 15 cycles')\n",
    "plt.xlabel('Remaining Cycles')\n",
    "plt.ylabel('Probability of detecting a failure')\n",
    "plt.xticks(list(range(0,51,5)))\n",
    "plt.axis([50,0,0,1.1])\n",
    "plt.show()"
   ]
  },
  {
   "cell_type": "markdown",
   "metadata": {},
   "source": [
    "- As it can be shown, the probability of detecting an early failure is low. This means that there is a chance that when an engine may fail earlier than 15 days when detected.\n",
    "- To overcome this, one may add a buffer to the predicted remaning cycles. ie (predict that engine will fail in 15 days even though the predicted remaining cycles is 23)\n",
    "- Lets test this."
   ]
  },
  {
   "cell_type": "code",
   "execution_count": 9,
   "metadata": {},
   "outputs": [
    {
     "data": {
      "image/png": "[encoded data removed]",
      "text/plain": [
       "<Figure size 864x504 with 1 Axes>"
      ]
     },
     "metadata": {
      "needs_background": "light"
     },
     "output_type": "display_data"
    }
   ],
   "source": [
    "comparison_df['predictions_bool'] = comparison_df.predictions.apply(lambda x: x<23)\n",
    "comparison_df['actual_bool'] = comparison_df.actual.apply(lambda x: x<15)\n",
    "s = comparison_df.groupby(['actual'])[['predictions_bool','actual_bool']].apply(lambda x: ([list(x['predictions_bool']),list(x['actual_bool'])]))\n",
    "results_per_RC = pd.DataFrame({'RC':s.index.astype(int),\n",
    "                               'accuracy_score':s.apply(lambda x: accuracy_score(x[1],x[0])).values})\n",
    "results_per_RC['detect_failure'] = results_per_RC.apply(lambda x: x[1] if x[0]<15 else 1-x[1], axis=1)\n",
    "plt.figure(figsize=(12,7))\n",
    "sns.lineplot(data=results_per_RC,x='RC',y='detect_failure')\n",
    "sns.lineplot(x=[15,15],y=[0,1.1],color='red')\n",
    "plt.title('Probability of detecting that the engine should fail within the next 15 cycles using an 8-cycle buffer')\n",
    "plt.xlabel('Remaining Cycles')\n",
    "plt.ylabel('Probability of detecting a failure')\n",
    "plt.xticks(list(range(0,51,5)))\n",
    "plt.axis([50,0,0,1.1])\n",
    "plt.show()"
   ]
  },
  {
   "cell_type": "markdown",
   "metadata": {},
   "source": [
    "- Using an 8 day buffer, there is much lower probability that there will be a late detection of engine failure within 15 cycles. This may be of more use to the client.\n",
    "- The setback here is that there is also a chance to predict that an engine will fail in 15 cycles, even though it may have as much as 30 cycles remaining.\n",
    "- The client can decide how best to use this model\n",
    "- Next we will show the cumulative probability of the same chart, using a 4-cycle buffer instead."
   ]
  },
  {
   "cell_type": "code",
   "execution_count": 29,
   "metadata": {},
   "outputs": [
    {
     "data": {
      "image/png": "[encoded data removed]",
      "text/plain": [
       "<Figure size 864x504 with 1 Axes>"
      ]
     },
     "metadata": {
      "needs_background": "light"
     },
     "output_type": "display_data"
    }
   ],
   "source": [
    "comparison_df['predictions_bool'] = comparison_df.predictions.apply(lambda x: x<19)\n",
    "comparison_df['actual_bool'] = comparison_df.actual.apply(lambda x: x<15)\n",
    "s = comparison_df.groupby(['actual'])[['predictions_bool','actual_bool']].apply(lambda x: ([list(x['predictions_bool']),list(x['actual_bool'])]))\n",
    "results_per_RC = pd.DataFrame({'RC':s.index.astype(int),\n",
    "                               'accuracy_score':s.apply(lambda x: accuracy_score(x[1],x[0])).values})\n",
    "results_per_RC['detect_failure'] = results_per_RC.apply(lambda x: x[1] if x[0]<15 else 1-x[1], axis=1)\n",
    "\n",
    "# Calculate the cumulative probability of detecting engine failure\n",
    "results_per_RC['cum_detection_probability']=(1-(1-results_per_RC.detect_failure).iloc[::-1].cumprod().iloc[::-1])\n",
    "\n",
    "plt.figure(figsize=(12,7))\n",
    "sns.lineplot(data=results_per_RC,x='RC',y='cum_detection_probability')\n",
    "sns.lineplot(x=[15,15],y=[0,1.1],color='red')\n",
    "plt.title('Cumulative probability of detecting that the engine should fail within the next 15 cycles using a 4-cycle buffer')\n",
    "plt.xlabel('Remaining Cycles')\n",
    "plt.ylabel('Cumulative probability of detecting a failure')\n",
    "plt.xticks(list(range(0,51,5)))\n",
    "plt.axis([50,0,0,1.1])\n",
    "plt.show()"
   ]
  },
  {
   "cell_type": "code",
   "execution_count": 30,
   "metadata": {},
   "outputs": [
    {
     "data": {
      "text/html": [
       "<div>\n",
       "<style scoped>\n",
       "    .dataframe tbody tr th:only-of-type {\n",
       "        vertical-align: middle;\n",
       "    }\n",
       "\n",
       "    .dataframe tbody tr th {\n",
       "        vertical-align: top;\n",
       "    }\n",
       "\n",
       "    .dataframe thead th {\n",
       "        text-align: right;\n",
       "    }\n",
       "</style>\n",
       "<table border=\"1\" class=\"dataframe\">\n",
       "  <thead>\n",
       "    <tr style=\"text-align: right;\">\n",
       "      <th></th>\n",
       "      <th>RC</th>\n",
       "      <th>accuracy_score</th>\n",
       "      <th>detect_failure</th>\n",
       "      <th>cum_detection_probability</th>\n",
       "    </tr>\n",
       "  </thead>\n",
       "  <tbody>\n",
       "    <tr>\n",
       "      <th>15</th>\n",
       "      <td>15</td>\n",
       "      <td>0.5</td>\n",
       "      <td>0.5</td>\n",
       "      <td>0.966498</td>\n",
       "    </tr>\n",
       "  </tbody>\n",
       "</table>\n",
       "</div>"
      ],
      "text/plain": [
       "    RC  accuracy_score  detect_failure  cum_detection_probability\n",
       "15  15             0.5             0.5                   0.966498"
      ]
     },
     "execution_count": 30,
     "metadata": {},
     "output_type": "execute_result"
    }
   ],
   "source": [
    "results_per_RC[results_per_RC.RC==15]"
   ]
  },
  {
   "cell_type": "markdown",
   "metadata": {},
   "source": [
    "- As shown above, a 4 day buffer is enough to give a 96% confidence to detect an engine failure occurence within the next 15 days."
   ]
  },
  {
   "cell_type": "code",
   "execution_count": null,
   "metadata": {},
   "outputs": [],
   "source": []
  }
 ],
 "metadata": {
  "interpreter": {
   "hash": "b6e727eb29cc8f3182503856ab79adf699493eeb1e656abc92dff760bf516f20"
  },
  "kernelspec": {
   "display_name": "Python 3.10.4 ('tf_dev')",
   "language": "python",
   "name": "python3"
  },
  "language_info": {
   "codemirror_mode": {
    "name": "ipython",
    "version": 3
   },
   "file_extension": ".py",
   "mimetype": "text/x-python",
   "name": "python",
   "nbconvert_exporter": "python",
   "pygments_lexer": "ipython3",
   "version": "3.10.4"
  },
  "orig_nbformat": 4
 },
 "nbformat": 4,
 "nbformat_minor": 2
}
